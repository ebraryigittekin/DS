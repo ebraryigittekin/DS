{
 "cells": [
  {
   "cell_type": "markdown",
   "id": "961b6957",
   "metadata": {},
   "source": [
    "## Final Assignment"
   ]
  },
  {
   "cell_type": "markdown",
   "id": "ee6be63c",
   "metadata": {},
   "source": [
    "## Introduction\n",
    "The final assignment of this course is listing of the data science languages, libraries and tools, and also giving examples for arithmetic expressions by using Python."
   ]
  },
  {
   "cell_type": "markdown",
   "id": "10afb54b",
   "metadata": {},
   "source": [
    "## Data Science Languages\n",
    "1. Python \n",
    "2. R\n",
    "3. SQL\n",
    "4. Scala\n",
    "5. Java\n",
    "6. C++\n",
    "7. Julia\n",
    "8. Java Script\n",
    "9. PHP\n",
    "10. Go\n",
    "11. Ruby\n",
    "12. Visual Basic"
   ]
  },
  {
   "cell_type": "markdown",
   "id": "5fa30253",
   "metadata": {},
   "source": [
    "## Data Science Libraries\n",
    "The most popular libraries are:\n",
    "1. Tensorflow\n",
    "2. Matplotlib\n",
    "3. Numpy\n",
    "4. Pandas\n",
    "5. Scikit-Learn\n",
    "6. Keras"
   ]
  },
  {
   "cell_type": "markdown",
   "id": "cbfc9b26",
   "metadata": {},
   "source": [
    "## Data Science Tools\n",
    "Data Manegements Tools:\n",
    "  MySQL, PostgreSQL, MonoDB, Apache CouchDB, Apache Cassandra, Hadoop File System, Ceph and elastic search\n",
    "\n",
    "Data Integration and Transformation Tools:\n",
    "  Apache AirFlow, KubeFlow, Apache Kafka, Apache Nifi, Apache SparkSQL and NodeRED\n",
    "  \n",
    "Data Visualizition Tools:\n",
    "  Pixe Dust, Hue, Kibana and Apache Supeset\n",
    "  \n",
    "Model Deployment Tools:\n",
    "  Apache PredictionIO, Seldon, Kubernetes, Redhat, OpenShift, Mleap, TensorFlow service, TensorFlow lite and TensorFlow.JS\n",
    "  \n",
    "Model Monitoring Tools:\n",
    "  ModelDB, Prometheus, IBM AI Fairness 360, IBM Adversarial Robustness 360 Toolbos and IBM AI Explainability 360\n",
    "  \n",
    "Code Asset Manegement Tools:\n",
    "  Git, GitHub, GitLab and Bitbucket\n",
    "  \n",
    "Data Asset Management Tools:\n",
    "  Apache Atlas, ODPi and Kylo\n",
    "\n"
   ]
  },
  {
   "cell_type": "markdown",
   "id": "9badaadf",
   "metadata": {},
   "source": [
    "## Arithmetic Expretions\n",
    "1. Addition: x + y\n",
    "2. Subraction: x - y\n",
    "3. Multiplilacion: x * y\n",
    "4. Division: x / y\n",
    "5. Truncating Division: x // y\n",
    "6. Power: x ** y\n",
    "7. Modulo: x % y"
   ]
  },
  {
   "cell_type": "code",
   "execution_count": 1,
   "id": "165a7f46",
   "metadata": {},
   "outputs": [],
   "source": [
    "x = 10\n",
    "y = 20\n",
    "z = (x + y) * 3"
   ]
  },
  {
   "cell_type": "code",
   "execution_count": 2,
   "id": "d0dbbec5",
   "metadata": {},
   "outputs": [
    {
     "name": "stdout",
     "output_type": "stream",
     "text": [
      "90\n"
     ]
    }
   ],
   "source": [
    "print(z)"
   ]
  },
  {
   "cell_type": "code",
   "execution_count": 11,
   "id": "4b09b4a4",
   "metadata": {},
   "outputs": [
    {
     "name": "stdout",
     "output_type": "stream",
     "text": [
      "Enter Minutes:45\n",
      "0.75\n",
      "Hours\n"
     ]
    }
   ],
   "source": [
    "Minutes = int(input(\"Enter Minutes:\"))\n",
    "print(Minutes/60)\n",
    "print(\"Hours\")"
   ]
  },
  {
   "cell_type": "markdown",
   "id": "6928847a",
   "metadata": {},
   "source": [
    "## Assignment Objectives\n",
    "1. Listing Data Science languages\n",
    "2. Listing Data Science libraries\n",
    "3. Listing Data Science tools\n",
    "4. Giving examples for arithmetic expressions "
   ]
  },
  {
   "cell_type": "markdown",
   "id": "da9128ae",
   "metadata": {},
   "source": [
    "## Author\n",
    "EBRAR YİĞİTTEKİN"
   ]
  },
  {
   "cell_type": "code",
   "execution_count": null,
   "id": "0406c661",
   "metadata": {},
   "outputs": [],
   "source": []
  }
 ],
 "metadata": {
  "kernelspec": {
   "display_name": "Python 3 (ipykernel)",
   "language": "python",
   "name": "python3"
  },
  "language_info": {
   "codemirror_mode": {
    "name": "ipython",
    "version": 3
   },
   "file_extension": ".py",
   "mimetype": "text/x-python",
   "name": "python",
   "nbconvert_exporter": "python",
   "pygments_lexer": "ipython3",
   "version": "3.9.13"
  }
 },
 "nbformat": 4,
 "nbformat_minor": 5
}
